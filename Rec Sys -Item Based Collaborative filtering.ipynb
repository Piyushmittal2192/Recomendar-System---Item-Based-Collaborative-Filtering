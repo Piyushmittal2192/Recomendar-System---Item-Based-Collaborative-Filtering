{
 "cells": [
  {
   "cell_type": "code",
   "execution_count": 91,
   "metadata": {},
   "outputs": [],
   "source": [
    "import numpy as np\n",
    "import pandas as pd"
   ]
  },
  {
   "cell_type": "code",
   "execution_count": 92,
   "metadata": {},
   "outputs": [],
   "source": [
    "df = pd.read_excel(\"C:/Users/piyus/Desktop/New folder/Practice/Movies_temp.xlsx\")"
   ]
  },
  {
   "cell_type": "code",
   "execution_count": 93,
   "metadata": {},
   "outputs": [
    {
     "name": "stdout",
     "output_type": "stream",
     "text": [
      "Enter User Name : Fred\n"
     ]
    }
   ],
   "source": [
    "# input the user\n",
    "userName = input(\"Enter User Name : \")"
   ]
  },
  {
   "cell_type": "code",
   "execution_count": 94,
   "metadata": {},
   "outputs": [
    {
     "name": "stdout",
     "output_type": "stream",
     "text": [
      "User is present\n"
     ]
    }
   ],
   "source": [
    "#check if the user is present or not\n",
    "if userName in df.User.values:\n",
    "    print(\"User is present\")\n",
    "else:\n",
    "    print(\"User is not present\")\n",
    "    #userRegReply = input(\"Do you want to register : \")\n",
    "    #if userRegReply == 'Yes' :\n",
    "    #    list(df.User).append(userName)   "
   ]
  },
  {
   "cell_type": "code",
   "execution_count": 95,
   "metadata": {},
   "outputs": [],
   "source": [
    "df = df.set_index('User')"
   ]
  },
  {
   "cell_type": "code",
   "execution_count": 96,
   "metadata": {},
   "outputs": [],
   "source": [
    "df['rat_mean'] = df.mean(1)"
   ]
  },
  {
   "cell_type": "code",
   "execution_count": 97,
   "metadata": {},
   "outputs": [],
   "source": [
    "em_col = df.columns[np.where(df.loc[userName].isnull())]\n",
    "col = df.columns\n",
    "col1 = [x for x in col if x not in em_col]"
   ]
  },
  {
   "cell_type": "code",
   "execution_count": 12,
   "metadata": {},
   "outputs": [],
   "source": [
    "#sim = [('sim' + str(idx)) for idx,i in enumerate(em_col)]\n",
    "#[df[s] for sdx,s in enumerate(sim)]\n",
    "#sim"
   ]
  },
  {
   "cell_type": "code",
   "execution_count": 98,
   "metadata": {},
   "outputs": [
    {
     "data": {
      "text/html": [
       "<div>\n",
       "<style scoped>\n",
       "    .dataframe tbody tr th:only-of-type {\n",
       "        vertical-align: middle;\n",
       "    }\n",
       "\n",
       "    .dataframe tbody tr th {\n",
       "        vertical-align: top;\n",
       "    }\n",
       "\n",
       "    .dataframe thead th {\n",
       "        text-align: right;\n",
       "    }\n",
       "</style>\n",
       "<table border=\"1\" class=\"dataframe\">\n",
       "  <thead>\n",
       "    <tr style=\"text-align: right;\">\n",
       "      <th></th>\n",
       "      <th>Batman vs Superman</th>\n",
       "      <th>Zootopia</th>\n",
       "      <th>Kung Fu Panda 3</th>\n",
       "      <th>Starwars: The Force Awakens</th>\n",
       "      <th>Deadpool</th>\n",
       "      <th>Avengers</th>\n",
       "      <th>rat_mean</th>\n",
       "    </tr>\n",
       "    <tr>\n",
       "      <th>User</th>\n",
       "      <th></th>\n",
       "      <th></th>\n",
       "      <th></th>\n",
       "      <th></th>\n",
       "      <th></th>\n",
       "      <th></th>\n",
       "      <th></th>\n",
       "    </tr>\n",
       "  </thead>\n",
       "  <tbody>\n",
       "    <tr>\n",
       "      <th>Fred</th>\n",
       "      <td>NaN</td>\n",
       "      <td>1</td>\n",
       "      <td>2</td>\n",
       "      <td>3</td>\n",
       "      <td>3.0</td>\n",
       "      <td>3.0</td>\n",
       "      <td>2.400000</td>\n",
       "    </tr>\n",
       "    <tr>\n",
       "      <th>Alice</th>\n",
       "      <td>5.0</td>\n",
       "      <td>3</td>\n",
       "      <td>4</td>\n",
       "      <td>4</td>\n",
       "      <td>NaN</td>\n",
       "      <td>NaN</td>\n",
       "      <td>4.000000</td>\n",
       "    </tr>\n",
       "    <tr>\n",
       "      <th>John</th>\n",
       "      <td>4.0</td>\n",
       "      <td>3</td>\n",
       "      <td>4</td>\n",
       "      <td>3</td>\n",
       "      <td>5.0</td>\n",
       "      <td>4.0</td>\n",
       "      <td>3.833333</td>\n",
       "    </tr>\n",
       "    <tr>\n",
       "      <th>Sue</th>\n",
       "      <td>3.0</td>\n",
       "      <td>3</td>\n",
       "      <td>1</td>\n",
       "      <td>5</td>\n",
       "      <td>4.0</td>\n",
       "      <td>1.0</td>\n",
       "      <td>2.833333</td>\n",
       "    </tr>\n",
       "    <tr>\n",
       "      <th>Tina</th>\n",
       "      <td>1.0</td>\n",
       "      <td>5</td>\n",
       "      <td>5</td>\n",
       "      <td>2</td>\n",
       "      <td>1.0</td>\n",
       "      <td>5.0</td>\n",
       "      <td>3.166667</td>\n",
       "    </tr>\n",
       "  </tbody>\n",
       "</table>\n",
       "</div>"
      ],
      "text/plain": [
       "       Batman vs Superman  Zootopia  Kung Fu Panda 3  \\\n",
       "User                                                   \n",
       "Fred                  NaN         1                2   \n",
       "Alice                 5.0         3                4   \n",
       "John                  4.0         3                4   \n",
       "Sue                   3.0         3                1   \n",
       "Tina                  1.0         5                5   \n",
       "\n",
       "       Starwars: The Force Awakens  Deadpool  Avengers  rat_mean  \n",
       "User                                                              \n",
       "Fred                             3       3.0       3.0  2.400000  \n",
       "Alice                            4       NaN       NaN  4.000000  \n",
       "John                             3       5.0       4.0  3.833333  \n",
       "Sue                              5       4.0       1.0  2.833333  \n",
       "Tina                             2       1.0       5.0  3.166667  "
      ]
     },
     "execution_count": 98,
     "metadata": {},
     "output_type": "execute_result"
    }
   ],
   "source": [
    "df"
   ]
  },
  {
   "cell_type": "code",
   "execution_count": 116,
   "metadata": {},
   "outputs": [],
   "source": [
    "nan_count = df.loc[userName].isnull().sum()\n",
    "#len(col)\n",
    "#col"
   ]
  },
  {
   "cell_type": "code",
   "execution_count": 100,
   "metadata": {},
   "outputs": [],
   "source": [
    "sim = pd.DataFrame(np.zeros((nan_count,len(col))))\n",
    "sim.columns = col\n",
    "sim = sim.set_index(em_col)"
   ]
  },
  {
   "cell_type": "code",
   "execution_count": 101,
   "metadata": {},
   "outputs": [
    {
     "data": {
      "text/html": [
       "<div>\n",
       "<style scoped>\n",
       "    .dataframe tbody tr th:only-of-type {\n",
       "        vertical-align: middle;\n",
       "    }\n",
       "\n",
       "    .dataframe tbody tr th {\n",
       "        vertical-align: top;\n",
       "    }\n",
       "\n",
       "    .dataframe thead th {\n",
       "        text-align: right;\n",
       "    }\n",
       "</style>\n",
       "<table border=\"1\" class=\"dataframe\">\n",
       "  <thead>\n",
       "    <tr style=\"text-align: right;\">\n",
       "      <th></th>\n",
       "      <th>Batman vs Superman</th>\n",
       "      <th>Zootopia</th>\n",
       "      <th>Kung Fu Panda 3</th>\n",
       "      <th>Starwars: The Force Awakens</th>\n",
       "      <th>Deadpool</th>\n",
       "      <th>Avengers</th>\n",
       "      <th>rat_mean</th>\n",
       "    </tr>\n",
       "  </thead>\n",
       "  <tbody>\n",
       "    <tr>\n",
       "      <th>Batman vs Superman</th>\n",
       "      <td>0.0</td>\n",
       "      <td>0.0</td>\n",
       "      <td>0.0</td>\n",
       "      <td>0.0</td>\n",
       "      <td>0.0</td>\n",
       "      <td>0.0</td>\n",
       "      <td>0.0</td>\n",
       "    </tr>\n",
       "  </tbody>\n",
       "</table>\n",
       "</div>"
      ],
      "text/plain": [
       "                    Batman vs Superman  Zootopia  Kung Fu Panda 3  \\\n",
       "Batman vs Superman                 0.0       0.0              0.0   \n",
       "\n",
       "                    Starwars: The Force Awakens  Deadpool  Avengers  rat_mean  \n",
       "Batman vs Superman                          0.0       0.0       0.0       0.0  "
      ]
     },
     "execution_count": 101,
     "metadata": {},
     "output_type": "execute_result"
    }
   ],
   "source": [
    "sim"
   ]
  },
  {
   "cell_type": "code",
   "execution_count": 102,
   "metadata": {},
   "outputs": [],
   "source": [
    "for edx, e in enumerate(em_col):\n",
    "    for jdx in range(df.shape[1]-1):\n",
    "            num = []\n",
    "            den1 = []\n",
    "            den2 = []\n",
    "            for idx, i in enumerate(df.index):\n",
    "                if i != userName :\n",
    "                    if not (np.isnan(df.loc[i][jdx]) or np.isnan(df.loc[i][e])):\n",
    "                        num.append((df.loc[i][jdx] - df.loc[i]['rat_mean'])*(df.loc[i][e] - df.loc[i]['rat_mean']))\n",
    "                        den1.append((df.loc[i][jdx] - df.loc[i]['rat_mean'])**2)\n",
    "                        den2.append((df.loc[i][e] - df.loc[i]['rat_mean'])**2)\n",
    "            sim.loc[e][jdx] = np.nansum(num)/(np.sqrt((np.nansum(den1)))*(np.sqrt(np.nansum(den2))))"
   ]
  },
  {
   "cell_type": "code",
   "execution_count": 103,
   "metadata": {},
   "outputs": [
    {
     "data": {
      "text/html": [
       "<div>\n",
       "<style scoped>\n",
       "    .dataframe tbody tr th:only-of-type {\n",
       "        vertical-align: middle;\n",
       "    }\n",
       "\n",
       "    .dataframe tbody tr th {\n",
       "        vertical-align: top;\n",
       "    }\n",
       "\n",
       "    .dataframe thead th {\n",
       "        text-align: right;\n",
       "    }\n",
       "</style>\n",
       "<table border=\"1\" class=\"dataframe\">\n",
       "  <thead>\n",
       "    <tr style=\"text-align: right;\">\n",
       "      <th></th>\n",
       "      <th>Batman vs Superman</th>\n",
       "      <th>Zootopia</th>\n",
       "      <th>Kung Fu Panda 3</th>\n",
       "      <th>Starwars: The Force Awakens</th>\n",
       "      <th>Deadpool</th>\n",
       "      <th>Avengers</th>\n",
       "      <th>rat_mean</th>\n",
       "    </tr>\n",
       "  </thead>\n",
       "  <tbody>\n",
       "    <tr>\n",
       "      <th>Batman vs Superman</th>\n",
       "      <td>1.0</td>\n",
       "      <td>-0.940244</td>\n",
       "      <td>-0.682187</td>\n",
       "      <td>0.441415</td>\n",
       "      <td>0.856441</td>\n",
       "      <td>-0.750568</td>\n",
       "      <td>0.0</td>\n",
       "    </tr>\n",
       "  </tbody>\n",
       "</table>\n",
       "</div>"
      ],
      "text/plain": [
       "                    Batman vs Superman  Zootopia  Kung Fu Panda 3  \\\n",
       "Batman vs Superman                 1.0 -0.940244        -0.682187   \n",
       "\n",
       "                    Starwars: The Force Awakens  Deadpool  Avengers  rat_mean  \n",
       "Batman vs Superman                     0.441415  0.856441 -0.750568       0.0  "
      ]
     },
     "execution_count": 103,
     "metadata": {},
     "output_type": "execute_result"
    }
   ],
   "source": [
    "sim"
   ]
  },
  {
   "cell_type": "code",
   "execution_count": 115,
   "metadata": {},
   "outputs": [],
   "source": [
    "#sim.sort_values(list(df.columns))"
   ]
  },
  {
   "cell_type": "code",
   "execution_count": 25,
   "metadata": {},
   "outputs": [],
   "source": [
    "#type(.loc['Avengers'])"
   ]
  },
  {
   "cell_type": "code",
   "execution_count": 114,
   "metadata": {},
   "outputs": [],
   "source": [
    "#x = pd.DataFrame(sim.loc['Avengers'].sort_values(ascending = False))\n",
    "#x.index.get_loc(x.iloc[1])\n",
    "#x.iloc[1]\n",
    "#x.index.get_loc(x.iloc[1])"
   ]
  },
  {
   "cell_type": "code",
   "execution_count": 113,
   "metadata": {},
   "outputs": [],
   "source": [
    "#for edx,e in enumerate(em_col):\n",
    "#    fir_nbr = sim.loc[e].sort_values(ascending = False)[1]\n",
    "#    sec_nbr = sim.loc[e].sort_values(ascending = False)[2]\n",
    "    "
   ]
  },
  {
   "cell_type": "code",
   "execution_count": 71,
   "metadata": {},
   "outputs": [],
   "source": [
    "# fir_nbr = sim.loc['Avengers'].sort_values(ascending = False)[1]\n",
    "# sec_nbr = sim.loc['Avengers'].sort_values(ascending = False)[2]\n",
    "# sim_col = sim.columns[(sim.loc['Avengers'] > 0) & (sim.loc['Avengers'] < 0.999)]"
   ]
  },
  {
   "cell_type": "code",
   "execution_count": 112,
   "metadata": {},
   "outputs": [],
   "source": [
    "# sim_col = pd.DataFrame(np.zeros((len(em_col),2)))\n",
    "# sim_col = sim_col.set_index(em_col)\n",
    "# sim_col"
   ]
  },
  {
   "cell_type": "code",
   "execution_count": 107,
   "metadata": {},
   "outputs": [
    {
     "data": {
      "text/plain": [
       "Index(['Zootopia', 'Kung Fu Panda 3'], dtype='object')"
      ]
     },
     "execution_count": 107,
     "metadata": {},
     "output_type": "execute_result"
    }
   ],
   "source": [
    "sim_col"
   ]
  },
  {
   "cell_type": "code",
   "execution_count": 108,
   "metadata": {},
   "outputs": [
    {
     "data": {
      "text/html": [
       "<div>\n",
       "<style scoped>\n",
       "    .dataframe tbody tr th:only-of-type {\n",
       "        vertical-align: middle;\n",
       "    }\n",
       "\n",
       "    .dataframe tbody tr th {\n",
       "        vertical-align: top;\n",
       "    }\n",
       "\n",
       "    .dataframe thead th {\n",
       "        text-align: right;\n",
       "    }\n",
       "</style>\n",
       "<table border=\"1\" class=\"dataframe\">\n",
       "  <thead>\n",
       "    <tr style=\"text-align: right;\">\n",
       "      <th></th>\n",
       "      <th>Batman vs Superman</th>\n",
       "    </tr>\n",
       "  </thead>\n",
       "  <tbody>\n",
       "    <tr>\n",
       "      <th>0</th>\n",
       "      <td>0.0</td>\n",
       "    </tr>\n",
       "  </tbody>\n",
       "</table>\n",
       "</div>"
      ],
      "text/plain": [
       "   Batman vs Superman\n",
       "0                 0.0"
      ]
     },
     "execution_count": 108,
     "metadata": {},
     "output_type": "execute_result"
    }
   ],
   "source": [
    "pred_rat = pd.DataFrame(np.zeros((1,len(em_col))))\n",
    "pred_rat.columns = em_col\n",
    "pred_rat       "
   ]
  },
  {
   "cell_type": "code",
   "execution_count": 110,
   "metadata": {},
   "outputs": [],
   "source": [
    "pred_num = []\n",
    "pred_den = []\n",
    "for edx,e in enumerate(em_col):\n",
    "    sim_col = sim.columns[(sim.loc[e] > 0) & (sim.loc[e] < 0.999)]\n",
    "    for sdx,s in enumerate(sim_col):\n",
    "        pred_num.append(df.loc[userName][s]*sim.loc[e][s])\n",
    "        pred_den.append(sim.loc[e][s])\n",
    "    pred_rat[e] = np.sum(pred_num)/np.sum(pred_den)"
   ]
  },
  {
   "cell_type": "code",
   "execution_count": 111,
   "metadata": {},
   "outputs": [
    {
     "data": {
      "text/html": [
       "<div>\n",
       "<style scoped>\n",
       "    .dataframe tbody tr th:only-of-type {\n",
       "        vertical-align: middle;\n",
       "    }\n",
       "\n",
       "    .dataframe tbody tr th {\n",
       "        vertical-align: top;\n",
       "    }\n",
       "\n",
       "    .dataframe thead th {\n",
       "        text-align: right;\n",
       "    }\n",
       "</style>\n",
       "<table border=\"1\" class=\"dataframe\">\n",
       "  <thead>\n",
       "    <tr style=\"text-align: right;\">\n",
       "      <th></th>\n",
       "      <th>Batman vs Superman</th>\n",
       "    </tr>\n",
       "  </thead>\n",
       "  <tbody>\n",
       "    <tr>\n",
       "      <th>0</th>\n",
       "      <td>3.0</td>\n",
       "    </tr>\n",
       "  </tbody>\n",
       "</table>\n",
       "</div>"
      ],
      "text/plain": [
       "   Batman vs Superman\n",
       "0                 3.0"
      ]
     },
     "execution_count": 111,
     "metadata": {},
     "output_type": "execute_result"
    }
   ],
   "source": [
    "pred_rat"
   ]
  }
 ],
 "metadata": {
  "kernelspec": {
   "display_name": "Python 3",
   "language": "python",
   "name": "python3"
  },
  "language_info": {
   "codemirror_mode": {
    "name": "ipython",
    "version": 3
   },
   "file_extension": ".py",
   "mimetype": "text/x-python",
   "name": "python",
   "nbconvert_exporter": "python",
   "pygments_lexer": "ipython3",
   "version": "3.6.5"
  }
 },
 "nbformat": 4,
 "nbformat_minor": 2
}
